{
 "cells": [
  {
   "cell_type": "code",
   "execution_count": 2,
   "metadata": {},
   "outputs": [],
   "source": [
    "import time\n",
    "import urllib\n",
    "\n",
    "from bs4 import BeautifulSoup\n",
    "import requests"
   ]
  },
  {
   "cell_type": "markdown",
   "metadata": {},
   "source": [
    "## Loop for French Wikipédia"
   ]
  },
  {
   "cell_type": "code",
   "execution_count": 104,
   "metadata": {},
   "outputs": [],
   "source": [
    "def find_link(url):\n",
    "    \n",
    "    link = None\n",
    "\n",
    "    content = requests.get(url)\n",
    "    soup = BeautifulSoup(content.text)\n",
    "    \n",
    "    #  Select paragraphs\n",
    "    for el in soup.body.select('p'):\n",
    "        if el.find('a') :\n",
    "            link = urllib.parse.urljoin('https://fr.wikipedia.org/', el.find('a').get('href'))\n",
    "            print(link)\n",
    "            break\n",
    "\n",
    "    return link"
   ]
  },
  {
   "cell_type": "code",
   "execution_count": 105,
   "metadata": {},
   "outputs": [],
   "source": [
    "def do_next(url, url_stop = 'https://fr.wikipedia.org/wiki/Philosophie', max_iter=25):\n",
    "    \"\"\"\n",
    "    Check is the search needs to continue. Return a boolean.\n",
    "    \"\"\"\n",
    "    if url[-1] == url_stop:\n",
    "        print(\"Got it!\")\n",
    "        return False\n",
    "    elif len(url) > max_iter:\n",
    "        print(\"The search is too long, STOP!\")\n",
    "        return False\n",
    "    elif url[-1] in url[:-1]:\n",
    "        print(\"We are looping, STOP!\")\n",
    "        return False\n",
    "    else:\n",
    "\n",
    "        return True"
   ]
  },
  {
   "cell_type": "code",
   "execution_count": 106,
   "metadata": {},
   "outputs": [],
   "source": [
    "def iterative_link(url):\n",
    "    urls = []\n",
    "    urls.append(url)\n",
    "    print(\"start = {}\".format(urls[0]))\n",
    "    \n",
    "    while do_next(urls):\n",
    "        link = find_link(urls[-1])\n",
    "        if not link:\n",
    "            print(\"No link found, stop search!\")\n",
    "            break\n",
    "\n",
    "        urls.append(link)\n",
    "    \n",
    "    print(\"distance = {}\".format(len(urls)))\n",
    "    return True"
   ]
  },
  {
   "cell_type": "code",
   "execution_count": 107,
   "metadata": {},
   "outputs": [
    {
     "name": "stdout",
     "output_type": "stream",
     "text": [
      "start = https://fr.wikipedia.org/wiki/Mathématiques\n",
      "https://fr.wikipedia.org/wiki/Connaissance\n",
      "https://fr.wikipedia.org/wiki/Notion\n",
      "https://fr.wikipedia.org/wiki/Aide:Comment_modifier_une_page\n",
      "https://fr.wikipedia.org/wiki/Aide:%C3%89diteurVisuel\n",
      "https://fr.wikipedia.org/wiki/Fichier:VisualEditor_-_Icon_-_Expand.svg\n",
      "https://upload.wikimedia.org/wikipedia/commons/2/2f/VisualEditor_-_Icon_-_Expand.svg\n",
      "No link found, stop search!\n",
      "distance = 7\n"
     ]
    },
    {
     "data": {
      "text/plain": [
       "True"
      ]
     },
     "execution_count": 107,
     "metadata": {},
     "output_type": "execute_result"
    }
   ],
   "source": [
    "iterative_link('https://fr.wikipedia.org/wiki/Mathématiques')"
   ]
  },
  {
   "cell_type": "code",
   "execution_count": 98,
   "metadata": {},
   "outputs": [
    {
     "name": "stdout",
     "output_type": "stream",
     "text": [
      "start = https://fr.wikipedia.org/wiki/Wikipédia\n",
      "https://fr.wikipedia.org/wiki/Fichier:FR-Wikipedia.ogg\n",
      "https://upload.wikimedia.org/wikipedia/commons/b/b9/FR-Wikipedia.ogg\n",
      "No link found, stop search!\n",
      "distance = 3\n"
     ]
    },
    {
     "data": {
      "text/plain": [
       "True"
      ]
     },
     "execution_count": 98,
     "metadata": {},
     "output_type": "execute_result"
    }
   ],
   "source": [
    "iterative_link('https://fr.wikipedia.org/wiki/Wikipédia')"
   ]
  },
  {
   "cell_type": "code",
   "execution_count": 99,
   "metadata": {},
   "outputs": [
    {
     "name": "stdout",
     "output_type": "stream",
     "text": [
      "start = https://fr.wikipedia.org/wiki/Montagne\n",
      "https://fr.wikipedia.org/wiki/Fichier:Fr-montagne.ogg\n",
      "https://upload.wikimedia.org/wikipedia/commons/d/d7/Fr-montagne.ogg\n",
      "No link found, stop search!\n",
      "distance = 3\n"
     ]
    },
    {
     "data": {
      "text/plain": [
       "True"
      ]
     },
     "execution_count": 99,
     "metadata": {},
     "output_type": "execute_result"
    }
   ],
   "source": [
    "iterative_link('https://fr.wikipedia.org/wiki/Montagne')"
   ]
  },
  {
   "cell_type": "markdown",
   "metadata": {},
   "source": [
    "Apparemment, il n'est pas évident d'affirmer que l'on finit pas tomber sur la page de Philosophie sur le wiki en Français."
   ]
  },
  {
   "cell_type": "markdown",
   "metadata": {},
   "source": [
    "## Loop for English Wikipédia"
   ]
  },
  {
   "cell_type": "code",
   "execution_count": 108,
   "metadata": {},
   "outputs": [],
   "source": [
    "def find_link_uk(url):\n",
    "    \n",
    "    link = None\n",
    "\n",
    "    content = requests.get(url)\n",
    "    soup = BeautifulSoup(content.text)\n",
    "    \n",
    "    #  Select paragraphs\n",
    "    for el in soup.body.select('p'):\n",
    "        if el.find('a') and url != urllib.parse.urljoin('https://en.wikipedia.org/', el.find('a').get('href')):\n",
    "            link = urllib.parse.urljoin('https://en.wikipedia.org/', el.find('a').get('href'))\n",
    "            print(link)\n",
    "            break\n",
    "\n",
    "    return link"
   ]
  },
  {
   "cell_type": "code",
   "execution_count": 109,
   "metadata": {},
   "outputs": [],
   "source": [
    "def do_next_uk(url, url_stop = 'https://en.wikipedia.org/wiki/Philosophy', max_iter=25):\n",
    "    \"\"\"\n",
    "    Check is the search needs to continue. Return a boolean.\n",
    "    \"\"\"\n",
    "    if url[-1] == url_stop:\n",
    "        print(\"Got it!\")\n",
    "        return False\n",
    "    elif len(url) > max_iter:\n",
    "        print(\"The search is too long, STOP!\")\n",
    "        return False\n",
    "    elif url[-1] in url[:-1]:\n",
    "        print(\"We are looping, STOP!\")\n",
    "        return False\n",
    "    else:\n",
    "\n",
    "        return True"
   ]
  },
  {
   "cell_type": "code",
   "execution_count": 110,
   "metadata": {},
   "outputs": [],
   "source": [
    "def iterative_link_uk(url):\n",
    "    urls = []\n",
    "    urls.append(url)\n",
    "    print(\"start = {}\".format(urls[0]))\n",
    "    \n",
    "    while do_next_uk(urls):\n",
    "        link = find_link_uk(urls[-1])\n",
    "        if not link:\n",
    "            print(\"No link found, stop search!\")\n",
    "            break\n",
    "\n",
    "        urls.append(link)\n",
    "    \n",
    "    print(\"distance = {}\".format(len(urls)))\n",
    "    return True"
   ]
  },
  {
   "cell_type": "code",
   "execution_count": 111,
   "metadata": {},
   "outputs": [
    {
     "name": "stdout",
     "output_type": "stream",
     "text": [
      "start = https://en.wikipedia.org/wiki/Mathematics\n",
      "https://en.wikipedia.org/wiki/Ancient_Greek\n",
      "https://en.wikipedia.org/wiki/Greek_language\n",
      "https://en.wikipedia.org/wiki/Modern_Greek\n",
      "https://en.wikipedia.org/wiki/Dialect\n",
      "https://en.wikipedia.org/wiki/Latin\n",
      "https://en.wikipedia.org/wiki/Help:IPA/Latin\n",
      "https://en.wikipedia.org/wiki/International_Phonetic_Alphabet\n",
      "https://en.wikipedia.org/wiki/Alphabet\n",
      "https://en.wikipedia.org/wiki/Letter_(alphabet)\n",
      "https://en.wikipedia.org/wiki/Symbol\n",
      "https://en.wikipedia.org/wiki/Idea\n",
      "https://en.wikipedia.org/wiki/Philosophy\n",
      "Got it!\n",
      "distance = 13\n"
     ]
    },
    {
     "data": {
      "text/plain": [
       "True"
      ]
     },
     "execution_count": 111,
     "metadata": {},
     "output_type": "execute_result"
    }
   ],
   "source": [
    "iterative_link_uk('https://en.wikipedia.org/wiki/Mathematics')"
   ]
  }
 ],
 "metadata": {
  "kernelspec": {
   "display_name": "Python 3",
   "language": "python",
   "name": "python3"
  },
  "language_info": {
   "codemirror_mode": {
    "name": "ipython",
    "version": 3
   },
   "file_extension": ".py",
   "mimetype": "text/x-python",
   "name": "python",
   "nbconvert_exporter": "python",
   "pygments_lexer": "ipython3",
   "version": "3.7.3"
  }
 },
 "nbformat": 4,
 "nbformat_minor": 4
}
