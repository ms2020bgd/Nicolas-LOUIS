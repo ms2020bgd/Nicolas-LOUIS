{
 "cells": [
  {
   "cell_type": "markdown",
   "metadata": {},
   "source": [
    "# DM 5"
   ]
  },
  {
   "cell_type": "code",
   "execution_count": 1,
   "metadata": {},
   "outputs": [],
   "source": [
    "import pandas as pd\n",
    "import seaborn as sns\n",
    "import matplotlib.pyplot as plt"
   ]
  },
  {
   "cell_type": "markdown",
   "metadata": {},
   "source": [
    "Sujet issu du Hackathon \"données de santé\" de Etalab :\n",
    "Peut-on établir un lien entre la densité de médecins par spécialité et par territoire et la pratique du dépassement d'honoraires ? Est-ce dans les territoires où la densité est la plus forte que les médecins pratiquent le moins les dépassements d'honoraires ? Est-ce que la densité de certains médecins / praticiens est corrélée à la densité de population pour certaines classes d'âges (bébé/pédiatre, personnes âgées / infirmiers etc...) ?"
   ]
  },
  {
   "cell_type": "markdown",
   "metadata": {},
   "source": [
    "Source des données : https://www.ameli.fr/l-assurance-maladie/statistiques-et-publications/donnees-statistiques/professionnels-de-sante-liberaux/honoraires/honoraires-totaux-et-moyens.php."
   ]
  },
  {
   "cell_type": "code",
   "execution_count": 6,
   "metadata": {},
   "outputs": [],
   "source": [
    "df = pd.read_excel(\"Honoraires_totaux_des_professionnels_de_sante_par_departement_en_2017.xls\",2)"
   ]
  },
  {
   "cell_type": "code",
   "execution_count": 8,
   "metadata": {},
   "outputs": [
    {
     "data": {
      "text/plain": [
       "Spécialistes                           object\n",
       "DEPARTEMENT                            object\n",
       "EFFECTIFS                               int64\n",
       "HONORAIRES SANS DEPASSEMENT (Euros)    object\n",
       "DEPASSEMENTS (Euros)                   object\n",
       "FRAIS DE DEPLACEMENT (Euros)           object\n",
       "TOTAL DES HONORAIRES (Euros)           object\n",
       "dtype: object"
      ]
     },
     "execution_count": 8,
     "metadata": {},
     "output_type": "execute_result"
    }
   ],
   "source": [
    "df.dtypes"
   ]
  },
  {
   "cell_type": "code",
   "execution_count": 9,
   "metadata": {},
   "outputs": [],
   "source": [
    "df_clean = df[df['DEPASSEMENTS (Euros)'] != 'nc']"
   ]
  },
  {
   "cell_type": "code",
   "execution_count": 10,
   "metadata": {},
   "outputs": [
    {
     "name": "stderr",
     "output_type": "stream",
     "text": [
      "/Users/louisnicolas/anaconda3/lib/python3.7/site-packages/ipykernel_launcher.py:2: SettingWithCopyWarning: \n",
      "A value is trying to be set on a copy of a slice from a DataFrame.\n",
      "Try using .loc[row_indexer,col_indexer] = value instead\n",
      "\n",
      "See the caveats in the documentation: http://pandas.pydata.org/pandas-docs/stable/user_guide/indexing.html#returning-a-view-versus-a-copy\n",
      "  \n"
     ]
    }
   ],
   "source": [
    "df_clean['DEPASSEMENTS (Euros)'] = pd.to_numeric(\n",
    "    df_clean['DEPASSEMENTS (Euros)'])"
   ]
  },
  {
   "cell_type": "code",
   "execution_count": 11,
   "metadata": {},
   "outputs": [
    {
     "data": {
      "text/html": [
       "<div>\n",
       "<style scoped>\n",
       "    .dataframe tbody tr th:only-of-type {\n",
       "        vertical-align: middle;\n",
       "    }\n",
       "\n",
       "    .dataframe tbody tr th {\n",
       "        vertical-align: top;\n",
       "    }\n",
       "\n",
       "    .dataframe thead th {\n",
       "        text-align: right;\n",
       "    }\n",
       "</style>\n",
       "<table border=\"1\" class=\"dataframe\">\n",
       "  <thead>\n",
       "    <tr style=\"text-align: right;\">\n",
       "      <th></th>\n",
       "      <th>EFFECTIFS</th>\n",
       "      <th>DEPASSEMENTS (Euros)</th>\n",
       "    </tr>\n",
       "  </thead>\n",
       "  <tbody>\n",
       "    <tr>\n",
       "      <td>count</td>\n",
       "      <td>3380.000000</td>\n",
       "      <td>3.380000e+03</td>\n",
       "    </tr>\n",
       "    <tr>\n",
       "      <td>mean</td>\n",
       "      <td>224.367751</td>\n",
       "      <td>9.074740e+06</td>\n",
       "    </tr>\n",
       "    <tr>\n",
       "      <td>std</td>\n",
       "      <td>3084.021549</td>\n",
       "      <td>1.037291e+08</td>\n",
       "    </tr>\n",
       "    <tr>\n",
       "      <td>min</td>\n",
       "      <td>0.000000</td>\n",
       "      <td>0.000000e+00</td>\n",
       "    </tr>\n",
       "    <tr>\n",
       "      <td>25%</td>\n",
       "      <td>0.000000</td>\n",
       "      <td>0.000000e+00</td>\n",
       "    </tr>\n",
       "    <tr>\n",
       "      <td>50%</td>\n",
       "      <td>15.000000</td>\n",
       "      <td>7.355036e+04</td>\n",
       "    </tr>\n",
       "    <tr>\n",
       "      <td>75%</td>\n",
       "      <td>43.000000</td>\n",
       "      <td>1.511962e+06</td>\n",
       "    </tr>\n",
       "    <tr>\n",
       "      <td>max</td>\n",
       "      <td>114030.000000</td>\n",
       "      <td>2.996448e+09</td>\n",
       "    </tr>\n",
       "  </tbody>\n",
       "</table>\n",
       "</div>"
      ],
      "text/plain": [
       "           EFFECTIFS  DEPASSEMENTS (Euros)\n",
       "count    3380.000000          3.380000e+03\n",
       "mean      224.367751          9.074740e+06\n",
       "std      3084.021549          1.037291e+08\n",
       "min         0.000000          0.000000e+00\n",
       "25%         0.000000          0.000000e+00\n",
       "50%        15.000000          7.355036e+04\n",
       "75%        43.000000          1.511962e+06\n",
       "max    114030.000000          2.996448e+09"
      ]
     },
     "execution_count": 11,
     "metadata": {},
     "output_type": "execute_result"
    }
   ],
   "source": [
    "df_clean.describe()"
   ]
  },
  {
   "cell_type": "code",
   "execution_count": 12,
   "metadata": {},
   "outputs": [
    {
     "data": {
      "text/html": [
       "<div>\n",
       "<style scoped>\n",
       "    .dataframe tbody tr th:only-of-type {\n",
       "        vertical-align: middle;\n",
       "    }\n",
       "\n",
       "    .dataframe tbody tr th {\n",
       "        vertical-align: top;\n",
       "    }\n",
       "\n",
       "    .dataframe thead th {\n",
       "        text-align: right;\n",
       "    }\n",
       "</style>\n",
       "<table border=\"1\" class=\"dataframe\">\n",
       "  <thead>\n",
       "    <tr style=\"text-align: right;\">\n",
       "      <th></th>\n",
       "      <th>Spécialistes</th>\n",
       "      <th>DEPARTEMENT</th>\n",
       "      <th>EFFECTIFS</th>\n",
       "      <th>HONORAIRES SANS DEPASSEMENT (Euros)</th>\n",
       "      <th>DEPASSEMENTS (Euros)</th>\n",
       "      <th>FRAIS DE DEPLACEMENT (Euros)</th>\n",
       "      <th>TOTAL DES HONORAIRES (Euros)</th>\n",
       "    </tr>\n",
       "  </thead>\n",
       "  <tbody>\n",
       "    <tr>\n",
       "      <td>8</td>\n",
       "      <td>02- Anesthésie-réanimation chirurgicale</td>\n",
       "      <td>09- Ariège</td>\n",
       "      <td>0</td>\n",
       "      <td>0</td>\n",
       "      <td>0.00</td>\n",
       "      <td>0</td>\n",
       "      <td>0</td>\n",
       "    </tr>\n",
       "    <tr>\n",
       "      <td>48</td>\n",
       "      <td>02- Anesthésie-réanimation chirurgicale</td>\n",
       "      <td>48- Lozère</td>\n",
       "      <td>0</td>\n",
       "      <td>22499.3</td>\n",
       "      <td>1789.61</td>\n",
       "      <td>3.81</td>\n",
       "      <td>24292.7</td>\n",
       "    </tr>\n",
       "    <tr>\n",
       "      <td>101</td>\n",
       "      <td>02- Anesthésie-réanimation chirurgicale</td>\n",
       "      <td>976- Mayotte</td>\n",
       "      <td>0</td>\n",
       "      <td>0</td>\n",
       "      <td>0.00</td>\n",
       "      <td>0</td>\n",
       "      <td>0</td>\n",
       "    </tr>\n",
       "    <tr>\n",
       "      <td>104</td>\n",
       "      <td>20- Réanimation médicale</td>\n",
       "      <td>01- Ain</td>\n",
       "      <td>0</td>\n",
       "      <td>0</td>\n",
       "      <td>0.00</td>\n",
       "      <td>0</td>\n",
       "      <td>0</td>\n",
       "    </tr>\n",
       "    <tr>\n",
       "      <td>105</td>\n",
       "      <td>20- Réanimation médicale</td>\n",
       "      <td>02- Aisne</td>\n",
       "      <td>0</td>\n",
       "      <td>0</td>\n",
       "      <td>0.00</td>\n",
       "      <td>0</td>\n",
       "      <td>0</td>\n",
       "    </tr>\n",
       "    <tr>\n",
       "      <td>...</td>\n",
       "      <td>...</td>\n",
       "      <td>...</td>\n",
       "      <td>...</td>\n",
       "      <td>...</td>\n",
       "      <td>...</td>\n",
       "      <td>...</td>\n",
       "      <td>...</td>\n",
       "    </tr>\n",
       "    <tr>\n",
       "      <td>5659</td>\n",
       "      <td>38- Médecins biologistes</td>\n",
       "      <td>43- Haute-Loire</td>\n",
       "      <td>0</td>\n",
       "      <td>0</td>\n",
       "      <td>0.00</td>\n",
       "      <td>0</td>\n",
       "      <td>0</td>\n",
       "    </tr>\n",
       "    <tr>\n",
       "      <td>5662</td>\n",
       "      <td>38- Médecins biologistes</td>\n",
       "      <td>46- Lot</td>\n",
       "      <td>0</td>\n",
       "      <td>0</td>\n",
       "      <td>0.00</td>\n",
       "      <td>0</td>\n",
       "      <td>0</td>\n",
       "    </tr>\n",
       "    <tr>\n",
       "      <td>5664</td>\n",
       "      <td>38- Médecins biologistes</td>\n",
       "      <td>48- Lozère</td>\n",
       "      <td>0</td>\n",
       "      <td>0</td>\n",
       "      <td>0.00</td>\n",
       "      <td>0</td>\n",
       "      <td>0</td>\n",
       "    </tr>\n",
       "    <tr>\n",
       "      <td>5681</td>\n",
       "      <td>38- Médecins biologistes</td>\n",
       "      <td>65- Hautes-Pyrénées</td>\n",
       "      <td>0</td>\n",
       "      <td>0</td>\n",
       "      <td>0.00</td>\n",
       "      <td>0</td>\n",
       "      <td>0</td>\n",
       "    </tr>\n",
       "    <tr>\n",
       "      <td>5698</td>\n",
       "      <td>38- Médecins biologistes</td>\n",
       "      <td>82- Tarn-et-Garonne</td>\n",
       "      <td>0</td>\n",
       "      <td>0</td>\n",
       "      <td>0.00</td>\n",
       "      <td>0</td>\n",
       "      <td>0</td>\n",
       "    </tr>\n",
       "  </tbody>\n",
       "</table>\n",
       "<p>1382 rows × 7 columns</p>\n",
       "</div>"
      ],
      "text/plain": [
       "                                 Spécialistes          DEPARTEMENT  EFFECTIFS  \\\n",
       "8     02- Anesthésie-réanimation chirurgicale           09- Ariège          0   \n",
       "48    02- Anesthésie-réanimation chirurgicale           48- Lozère          0   \n",
       "101   02- Anesthésie-réanimation chirurgicale         976- Mayotte          0   \n",
       "104                  20- Réanimation médicale              01- Ain          0   \n",
       "105                  20- Réanimation médicale            02- Aisne          0   \n",
       "...                                       ...                  ...        ...   \n",
       "5659                 38- Médecins biologistes      43- Haute-Loire          0   \n",
       "5662                 38- Médecins biologistes              46- Lot          0   \n",
       "5664                 38- Médecins biologistes           48- Lozère          0   \n",
       "5681                 38- Médecins biologistes  65- Hautes-Pyrénées          0   \n",
       "5698                 38- Médecins biologistes  82- Tarn-et-Garonne          0   \n",
       "\n",
       "     HONORAIRES SANS DEPASSEMENT (Euros)  DEPASSEMENTS (Euros)  \\\n",
       "8                                      0                  0.00   \n",
       "48                               22499.3               1789.61   \n",
       "101                                    0                  0.00   \n",
       "104                                    0                  0.00   \n",
       "105                                    0                  0.00   \n",
       "...                                  ...                   ...   \n",
       "5659                                   0                  0.00   \n",
       "5662                                   0                  0.00   \n",
       "5664                                   0                  0.00   \n",
       "5681                                   0                  0.00   \n",
       "5698                                   0                  0.00   \n",
       "\n",
       "     FRAIS DE DEPLACEMENT (Euros) TOTAL DES HONORAIRES (Euros)  \n",
       "8                               0                            0  \n",
       "48                           3.81                      24292.7  \n",
       "101                             0                            0  \n",
       "104                             0                            0  \n",
       "105                             0                            0  \n",
       "...                           ...                          ...  \n",
       "5659                            0                            0  \n",
       "5662                            0                            0  \n",
       "5664                            0                            0  \n",
       "5681                            0                            0  \n",
       "5698                            0                            0  \n",
       "\n",
       "[1382 rows x 7 columns]"
      ]
     },
     "execution_count": 12,
     "metadata": {},
     "output_type": "execute_result"
    }
   ],
   "source": [
    "df_clean[df_clean['EFFECTIFS'] < 5]"
   ]
  },
  {
   "cell_type": "code",
   "execution_count": null,
   "metadata": {},
   "outputs": [],
   "source": []
  }
 ],
 "metadata": {
  "kernelspec": {
   "display_name": "Python 3",
   "language": "python",
   "name": "python3"
  },
  "language_info": {
   "codemirror_mode": {
    "name": "ipython",
    "version": 3
   },
   "file_extension": ".py",
   "mimetype": "text/x-python",
   "name": "python",
   "nbconvert_exporter": "python",
   "pygments_lexer": "ipython3",
   "version": "3.7.3"
  }
 },
 "nbformat": 4,
 "nbformat_minor": 2
}
